{
 "cells": [
  {
   "cell_type": "markdown",
   "metadata": {},
   "source": [
    "# What I am Going to DO to get it working\n",
    "- take the literally just 6_1 and see what is wrong with the colorlist"
   ]
  },
  {
   "cell_type": "code",
   "execution_count": 3,
   "metadata": {},
   "outputs": [],
   "source": [
    "import numpy as np \n",
    "import pandas as pd \n",
    "import csv\n",
    "from itertools import *\n",
    "from fractions import Fraction"
   ]
  },
  {
   "cell_type": "code",
   "execution_count": 35,
   "metadata": {},
   "outputs": [],
   "source": [
    "rrcm = []\n",
    "\n",
    "for matrix in df[\"Row Reduced Coloring Matrix\"].values.tolist():\n",
    "    strings = matrix[2:-2].split(\"], [\")\n",
    "#        print(strings)\n",
    "    list_of_lists = [ list(crossing.split(\",\")) for crossing in strings ]\n",
    "#        print(list_of_lists)\n",
    "    list_of_intlists = [ [int(n) for n in string] for string in list_of_lists ]\n",
    "    rrcm.append(list_of_intlists)\n",
    "    list_of_intlists = []\n",
    "    list_of_lists = []\n",
    "    strings = []\n",
    "    #list_of_colorlists = ColourList( list_of_intlists ,3 )\n"
   ]
  },
  {
   "cell_type": "code",
   "execution_count": 47,
   "metadata": {},
   "outputs": [
    {
     "data": {
      "text/html": [
       "<div>\n",
       "<style scoped>\n",
       "    .dataframe tbody tr th:only-of-type {\n",
       "        vertical-align: middle;\n",
       "    }\n",
       "\n",
       "    .dataframe tbody tr th {\n",
       "        vertical-align: top;\n",
       "    }\n",
       "\n",
       "    .dataframe thead th {\n",
       "        text-align: right;\n",
       "    }\n",
       "</style>\n",
       "<table border=\"1\" class=\"dataframe\">\n",
       "  <thead>\n",
       "    <tr style=\"text-align: right;\">\n",
       "      <th></th>\n",
       "      <th>0</th>\n",
       "      <th>1</th>\n",
       "      <th>2</th>\n",
       "      <th>3</th>\n",
       "      <th>4</th>\n",
       "      <th>5</th>\n",
       "      <th>6</th>\n",
       "      <th>7</th>\n",
       "      <th>8</th>\n",
       "      <th>9</th>\n",
       "      <th>10</th>\n",
       "      <th>11</th>\n",
       "      <th>12</th>\n",
       "    </tr>\n",
       "  </thead>\n",
       "  <tbody>\n",
       "    <tr>\n",
       "      <th>0</th>\n",
       "      <td>[2, 3, 1]</td>\n",
       "      <td>None</td>\n",
       "      <td>None</td>\n",
       "      <td>None</td>\n",
       "      <td>None</td>\n",
       "      <td>None</td>\n",
       "      <td>None</td>\n",
       "      <td>None</td>\n",
       "      <td>None</td>\n",
       "      <td>None</td>\n",
       "      <td>None</td>\n",
       "      <td>None</td>\n",
       "      <td>None</td>\n",
       "    </tr>\n",
       "    <tr>\n",
       "      <th>1</th>\n",
       "      <td>[2, 1, 3, 2, 1, 3, 1]</td>\n",
       "      <td>None</td>\n",
       "      <td>None</td>\n",
       "      <td>None</td>\n",
       "      <td>None</td>\n",
       "      <td>None</td>\n",
       "      <td>None</td>\n",
       "      <td>None</td>\n",
       "      <td>None</td>\n",
       "      <td>None</td>\n",
       "      <td>None</td>\n",
       "      <td>None</td>\n",
       "      <td>None</td>\n",
       "    </tr>\n",
       "    <tr>\n",
       "      <th>2</th>\n",
       "      <td>[2, 1, 3, 3, 2, 1, 3, 3, 1]</td>\n",
       "      <td>None</td>\n",
       "      <td>None</td>\n",
       "      <td>None</td>\n",
       "      <td>None</td>\n",
       "      <td>None</td>\n",
       "      <td>None</td>\n",
       "      <td>None</td>\n",
       "      <td>None</td>\n",
       "      <td>None</td>\n",
       "      <td>None</td>\n",
       "      <td>None</td>\n",
       "      <td>None</td>\n",
       "    </tr>\n",
       "    <tr>\n",
       "      <th>3</th>\n",
       "      <td>[2, 3, 3, 2, 1, 3, 1]</td>\n",
       "      <td>None</td>\n",
       "      <td>None</td>\n",
       "      <td>None</td>\n",
       "      <td>None</td>\n",
       "      <td>None</td>\n",
       "      <td>None</td>\n",
       "      <td>None</td>\n",
       "      <td>None</td>\n",
       "      <td>None</td>\n",
       "      <td>None</td>\n",
       "      <td>None</td>\n",
       "      <td>None</td>\n",
       "    </tr>\n",
       "    <tr>\n",
       "      <th>4</th>\n",
       "      <td>[2, 3, 3, 1, 2, 3, 3, 1]</td>\n",
       "      <td>None</td>\n",
       "      <td>None</td>\n",
       "      <td>None</td>\n",
       "      <td>None</td>\n",
       "      <td>None</td>\n",
       "      <td>None</td>\n",
       "      <td>None</td>\n",
       "      <td>None</td>\n",
       "      <td>None</td>\n",
       "      <td>None</td>\n",
       "      <td>None</td>\n",
       "      <td>None</td>\n",
       "    </tr>\n",
       "    <tr>\n",
       "      <th>...</th>\n",
       "      <td>...</td>\n",
       "      <td>...</td>\n",
       "      <td>...</td>\n",
       "      <td>...</td>\n",
       "      <td>...</td>\n",
       "      <td>...</td>\n",
       "      <td>...</td>\n",
       "      <td>...</td>\n",
       "      <td>...</td>\n",
       "      <td>...</td>\n",
       "      <td>...</td>\n",
       "      <td>...</td>\n",
       "      <td>...</td>\n",
       "    </tr>\n",
       "    <tr>\n",
       "      <th>1079</th>\n",
       "      <td>[2, 1, 3, 3, 1, 2, 3, 2, 3, 1, 3, 1]</td>\n",
       "      <td>None</td>\n",
       "      <td>None</td>\n",
       "      <td>None</td>\n",
       "      <td>None</td>\n",
       "      <td>None</td>\n",
       "      <td>None</td>\n",
       "      <td>None</td>\n",
       "      <td>None</td>\n",
       "      <td>None</td>\n",
       "      <td>None</td>\n",
       "      <td>None</td>\n",
       "      <td>None</td>\n",
       "    </tr>\n",
       "    <tr>\n",
       "      <th>1080</th>\n",
       "      <td>[2, 3, 3, 2, 2, 1, 2, 3, 1, 3, 3, 3, 1]</td>\n",
       "      <td>[2, 3, 1, 3, 1, 2, 2, 1, 1, 2, 3, 1, 3]</td>\n",
       "      <td>[1, 3, 1, 2, 3, 3, 1, 1, 2, 2, 3, 1, 1]</td>\n",
       "      <td>[3, 3, 1, 1, 2, 1, 3, 1, 3, 2, 3, 1, 2]</td>\n",
       "      <td>None</td>\n",
       "      <td>None</td>\n",
       "      <td>None</td>\n",
       "      <td>None</td>\n",
       "      <td>None</td>\n",
       "      <td>None</td>\n",
       "      <td>None</td>\n",
       "      <td>None</td>\n",
       "      <td>None</td>\n",
       "    </tr>\n",
       "    <tr>\n",
       "      <th>1081</th>\n",
       "      <td>[1, 1, 1, 2, 2, 1, 1, 3, 3, 2, 2, 2, 3, 1]</td>\n",
       "      <td>None</td>\n",
       "      <td>None</td>\n",
       "      <td>None</td>\n",
       "      <td>None</td>\n",
       "      <td>None</td>\n",
       "      <td>None</td>\n",
       "      <td>None</td>\n",
       "      <td>None</td>\n",
       "      <td>None</td>\n",
       "      <td>None</td>\n",
       "      <td>None</td>\n",
       "      <td>None</td>\n",
       "    </tr>\n",
       "    <tr>\n",
       "      <th>1082</th>\n",
       "      <td>[1, 1, 1, 2, 2, 1, 1, 3, 2, 2, 2, 3, 3, 1]</td>\n",
       "      <td>None</td>\n",
       "      <td>None</td>\n",
       "      <td>None</td>\n",
       "      <td>None</td>\n",
       "      <td>None</td>\n",
       "      <td>None</td>\n",
       "      <td>None</td>\n",
       "      <td>None</td>\n",
       "      <td>None</td>\n",
       "      <td>None</td>\n",
       "      <td>None</td>\n",
       "      <td>None</td>\n",
       "    </tr>\n",
       "    <tr>\n",
       "      <th>1083</th>\n",
       "      <td>[2, 3, 3, 3, 3, 1, 2, 3, 3, 3, 3, 1]</td>\n",
       "      <td>[2, 1, 2, 3, 1, 3, 2, 1, 2, 3, 1, 3]</td>\n",
       "      <td>[1, 1, 2, 3, 1, 1, 1, 1, 2, 3, 1, 1]</td>\n",
       "      <td>[3, 1, 2, 3, 1, 2, 3, 1, 2, 3, 1, 2]</td>\n",
       "      <td>None</td>\n",
       "      <td>None</td>\n",
       "      <td>None</td>\n",
       "      <td>None</td>\n",
       "      <td>None</td>\n",
       "      <td>None</td>\n",
       "      <td>None</td>\n",
       "      <td>None</td>\n",
       "      <td>None</td>\n",
       "    </tr>\n",
       "  </tbody>\n",
       "</table>\n",
       "<p>1084 rows × 13 columns</p>\n",
       "</div>"
      ],
      "text/plain": [
       "                                               0  \\\n",
       "0                                      [2, 3, 1]   \n",
       "1                          [2, 1, 3, 2, 1, 3, 1]   \n",
       "2                    [2, 1, 3, 3, 2, 1, 3, 3, 1]   \n",
       "3                          [2, 3, 3, 2, 1, 3, 1]   \n",
       "4                       [2, 3, 3, 1, 2, 3, 3, 1]   \n",
       "...                                          ...   \n",
       "1079        [2, 1, 3, 3, 1, 2, 3, 2, 3, 1, 3, 1]   \n",
       "1080     [2, 3, 3, 2, 2, 1, 2, 3, 1, 3, 3, 3, 1]   \n",
       "1081  [1, 1, 1, 2, 2, 1, 1, 3, 3, 2, 2, 2, 3, 1]   \n",
       "1082  [1, 1, 1, 2, 2, 1, 1, 3, 2, 2, 2, 3, 3, 1]   \n",
       "1083        [2, 3, 3, 3, 3, 1, 2, 3, 3, 3, 3, 1]   \n",
       "\n",
       "                                            1  \\\n",
       "0                                        None   \n",
       "1                                        None   \n",
       "2                                        None   \n",
       "3                                        None   \n",
       "4                                        None   \n",
       "...                                       ...   \n",
       "1079                                     None   \n",
       "1080  [2, 3, 1, 3, 1, 2, 2, 1, 1, 2, 3, 1, 3]   \n",
       "1081                                     None   \n",
       "1082                                     None   \n",
       "1083     [2, 1, 2, 3, 1, 3, 2, 1, 2, 3, 1, 3]   \n",
       "\n",
       "                                            2  \\\n",
       "0                                        None   \n",
       "1                                        None   \n",
       "2                                        None   \n",
       "3                                        None   \n",
       "4                                        None   \n",
       "...                                       ...   \n",
       "1079                                     None   \n",
       "1080  [1, 3, 1, 2, 3, 3, 1, 1, 2, 2, 3, 1, 1]   \n",
       "1081                                     None   \n",
       "1082                                     None   \n",
       "1083     [1, 1, 2, 3, 1, 1, 1, 1, 2, 3, 1, 1]   \n",
       "\n",
       "                                            3     4     5     6     7     8  \\\n",
       "0                                        None  None  None  None  None  None   \n",
       "1                                        None  None  None  None  None  None   \n",
       "2                                        None  None  None  None  None  None   \n",
       "3                                        None  None  None  None  None  None   \n",
       "4                                        None  None  None  None  None  None   \n",
       "...                                       ...   ...   ...   ...   ...   ...   \n",
       "1079                                     None  None  None  None  None  None   \n",
       "1080  [3, 3, 1, 1, 2, 1, 3, 1, 3, 2, 3, 1, 2]  None  None  None  None  None   \n",
       "1081                                     None  None  None  None  None  None   \n",
       "1082                                     None  None  None  None  None  None   \n",
       "1083     [3, 1, 2, 3, 1, 2, 3, 1, 2, 3, 1, 2]  None  None  None  None  None   \n",
       "\n",
       "         9    10    11    12  \n",
       "0     None  None  None  None  \n",
       "1     None  None  None  None  \n",
       "2     None  None  None  None  \n",
       "3     None  None  None  None  \n",
       "4     None  None  None  None  \n",
       "...    ...   ...   ...   ...  \n",
       "1079  None  None  None  None  \n",
       "1080  None  None  None  None  \n",
       "1081  None  None  None  None  \n",
       "1082  None  None  None  None  \n",
       "1083  None  None  None  None  \n",
       "\n",
       "[1084 rows x 13 columns]"
      ]
     },
     "execution_count": 47,
     "metadata": {},
     "output_type": "execute_result"
    }
   ],
   "source": [
    "pd.to_csv(\"pdcolorlists.csv\",pd.DataFrame(colorlists))"
   ]
  },
  {
   "cell_type": "code",
   "execution_count": 46,
   "metadata": {},
   "outputs": [
    {
     "name": "stdout",
     "output_type": "stream",
     "text": [
      "13\n",
      "(496, [[2, 3, 3, 2, 1, 2, 1, 3, 3, 3, 1, 2, 3, 3, 3, 3, 1], [3, 2, 1, 2, 1, 3, 1, 3, 1, 2, 1, 2, 3, 2, 3, 1, 3], [2, 2, 1, 1, 2, 2, 2, 3, 1, 2, 2, 1, 3, 2, 3, 1, 1], [1, 2, 1, 3, 3, 1, 3, 3, 1, 2, 3, 3, 3, 2, 3, 1, 2], [2, 2, 3, 3, 3, 1, 3, 3, 1, 2, 2, 3, 3, 2, 1, 3, 3], [1, 2, 3, 2, 1, 3, 1, 3, 1, 2, 3, 2, 3, 2, 1, 3, 1], [3, 2, 3, 1, 2, 2, 2, 3, 1, 2, 1, 1, 3, 2, 1, 3, 2], [2, 1, 1, 2, 1, 1, 1, 3, 2, 1, 3, 2, 3, 1, 1, 1, 3], [1, 1, 1, 1, 2, 3, 2, 3, 2, 1, 1, 1, 3, 1, 1, 1, 1], [3, 1, 1, 3, 3, 2, 3, 3, 2, 1, 2, 3, 3, 1, 1, 1, 2], [2, 3, 2, 1, 2, 1, 2, 3, 3, 3, 1, 1, 3, 3, 1, 2, 3], [1, 3, 2, 3, 3, 3, 3, 3, 3, 3, 2, 3, 3, 3, 1, 2, 1], [3, 3, 2, 2, 1, 2, 1, 3, 3, 3, 3, 2, 3, 3, 1, 2, 2]])\n",
      "13\n",
      "(570, [[3, 1, 2, 1, 2, 3, 1, 2, 2, 3, 1, 3, 3, 3, 2, 3, 3, 3, 1], [2, 3, 1, 1, 2, 1, 3, 1, 1, 1, 1, 3, 2, 3, 2, 1, 3, 1, 3], [2, 1, 3, 2, 1, 1, 1, 3, 3, 1, 2, 3, 2, 3, 1, 1, 3, 1, 1], [2, 2, 2, 3, 3, 1, 2, 2, 2, 1, 3, 3, 2, 3, 3, 1, 3, 1, 2], [2, 3, 1, 3, 3, 3, 3, 1, 1, 2, 3, 3, 1, 3, 3, 3, 1, 3, 3], [2, 1, 3, 1, 2, 3, 1, 3, 3, 2, 1, 3, 1, 3, 2, 3, 1, 3, 1], [2, 2, 2, 2, 1, 3, 2, 2, 2, 2, 2, 3, 1, 3, 1, 3, 1, 3, 2], [1, 3, 2, 1, 2, 1, 3, 2, 2, 3, 1, 3, 3, 3, 2, 1, 1, 1, 3], [1, 1, 1, 2, 1, 1, 1, 1, 1, 3, 2, 3, 3, 3, 1, 1, 1, 1, 1], [1, 2, 3, 3, 3, 1, 2, 3, 3, 3, 3, 3, 3, 3, 3, 1, 1, 1, 2], [3, 3, 3, 2, 1, 2, 3, 3, 3, 1, 2, 3, 2, 3, 1, 2, 1, 2, 3], [3, 1, 2, 3, 3, 2, 1, 2, 2, 1, 3, 3, 2, 3, 3, 2, 1, 2, 1], [3, 2, 1, 1, 2, 2, 2, 1, 1, 1, 1, 3, 2, 3, 2, 2, 1, 2, 2]])\n",
      "13\n",
      "(958, [[2, 2, 3, 2, 1, 2, 1, 3, 1, 3, 2, 3, 3, 1], [1, 3, 2, 2, 2, 3, 1, 3, 2, 2, 2, 3, 1, 3], [3, 2, 2, 1, 3, 2, 2, 3, 3, 2, 1, 3, 1, 1], [2, 1, 2, 3, 1, 1, 3, 3, 1, 2, 3, 3, 1, 2], [2, 3, 1, 1, 1, 2, 2, 3, 1, 2, 3, 1, 3, 3], [1, 2, 1, 3, 2, 1, 3, 3, 2, 2, 2, 1, 3, 1], [3, 1, 1, 2, 3, 3, 1, 3, 3, 2, 1, 1, 3, 2], [3, 3, 3, 3, 3, 2, 3, 3, 3, 1, 2, 1, 1, 3], [2, 2, 3, 2, 1, 1, 1, 3, 1, 1, 1, 1, 1, 1], [1, 1, 3, 1, 2, 3, 2, 3, 2, 1, 3, 1, 1, 2], [1, 3, 2, 2, 2, 2, 1, 3, 2, 3, 1, 1, 2, 3], [3, 2, 2, 1, 3, 1, 2, 3, 3, 3, 3, 1, 2, 1], [2, 1, 2, 3, 1, 3, 3, 3, 1, 3, 2, 1, 2, 2]])\n",
      "13\n",
      "(959, [[3, 1, 2, 1, 2, 1, 1, 2, 1, 3, 1, 3, 2, 3, 3, 3, 1], [2, 2, 1, 2, 2, 3, 1, 2, 2, 3, 2, 2, 2, 1, 3, 1, 3], [2, 3, 3, 3, 1, 1, 2, 1, 3, 3, 3, 2, 1, 1, 3, 1, 1], [2, 1, 2, 1, 3, 2, 3, 3, 1, 3, 1, 2, 3, 1, 3, 1, 2], [1, 1, 2, 1, 3, 3, 2, 1, 1, 3, 1, 2, 3, 3, 1, 3, 3], [1, 2, 1, 2, 2, 1, 3, 3, 2, 3, 2, 2, 2, 3, 1, 3, 1], [1, 3, 3, 3, 1, 2, 1, 2, 3, 3, 3, 2, 1, 3, 1, 3, 2], [3, 3, 3, 3, 2, 3, 3, 3, 3, 3, 3, 1, 2, 1, 1, 1, 3], [3, 1, 2, 1, 1, 1, 1, 2, 1, 3, 1, 1, 1, 1, 1, 1, 1], [3, 2, 1, 2, 3, 2, 2, 1, 2, 3, 2, 1, 3, 1, 1, 1, 2], [2, 2, 1, 2, 1, 3, 1, 2, 2, 3, 2, 3, 1, 2, 1, 2, 3], [2, 3, 3, 3, 3, 1, 2, 1, 3, 3, 3, 3, 3, 2, 1, 2, 1], [2, 1, 2, 1, 2, 2, 3, 3, 1, 3, 1, 3, 2, 2, 1, 2, 2]])\n",
      "13\n",
      "(960, [[2, 3, 3, 3, 1, 2, 1, 2, 3, 3, 3, 3, 3, 3, 3, 1], [2, 1, 3, 1, 3, 2, 3, 2, 1, 2, 2, 3, 2, 3, 1, 3], [1, 1, 3, 1, 1, 1, 1, 1, 1, 2, 2, 3, 2, 3, 1, 1], [3, 1, 3, 1, 2, 3, 2, 3, 1, 2, 2, 3, 2, 3, 1, 2], [3, 2, 2, 3, 3, 2, 1, 2, 1, 1, 3, 3, 2, 1, 3, 3], [2, 2, 2, 3, 1, 1, 2, 1, 1, 1, 3, 3, 2, 1, 3, 1], [1, 2, 2, 3, 2, 3, 3, 3, 1, 1, 3, 3, 2, 1, 3, 2], [2, 3, 2, 1, 3, 1, 1, 1, 2, 3, 2, 3, 1, 1, 1, 3], [1, 3, 2, 1, 1, 3, 2, 3, 2, 3, 2, 3, 1, 1, 1, 1], [3, 3, 2, 1, 2, 2, 3, 2, 2, 3, 2, 3, 1, 1, 1, 2], [1, 1, 2, 2, 3, 3, 1, 3, 3, 2, 1, 3, 3, 1, 2, 3], [3, 1, 2, 2, 1, 2, 2, 2, 3, 2, 1, 3, 3, 1, 2, 1], [2, 1, 2, 2, 2, 1, 3, 1, 3, 2, 1, 3, 3, 1, 2, 2]])\n",
      "13\n",
      "(961, [[2, 3, 2, 2, 1, 2, 1, 3, 1, 3, 3, 2, 3, 1], [3, 2, 1, 2, 1, 1, 3, 3, 2, 2, 3, 2, 1, 3], [2, 2, 3, 1, 2, 3, 1, 3, 3, 2, 3, 1, 1, 1], [1, 2, 2, 3, 3, 2, 2, 3, 1, 2, 3, 3, 1, 2], [3, 1, 2, 1, 2, 1, 3, 3, 1, 2, 1, 3, 3, 3], [2, 1, 1, 3, 3, 3, 1, 3, 2, 2, 1, 2, 3, 1], [1, 1, 3, 2, 1, 2, 2, 3, 3, 2, 1, 1, 3, 2], [3, 3, 3, 3, 3, 2, 3, 3, 3, 1, 1, 2, 1, 3], [2, 3, 2, 2, 1, 1, 1, 3, 1, 1, 1, 1, 1, 1], [1, 3, 1, 1, 2, 3, 2, 3, 2, 1, 1, 3, 1, 2], [3, 2, 1, 2, 1, 3, 3, 3, 2, 3, 1, 1, 2, 3], [2, 2, 3, 1, 2, 2, 1, 3, 3, 3, 1, 3, 2, 1], [1, 2, 2, 3, 3, 1, 2, 3, 1, 3, 1, 2, 2, 2]])\n",
      "13\n",
      "(1004, [[3, 1, 2, 1, 2, 2, 2, 1, 2, 1, 3, 1, 3, 3, 3, 1], [2, 2, 1, 2, 1, 1, 3, 1, 2, 2, 3, 2, 3, 3, 1, 3], [2, 3, 3, 3, 3, 3, 2, 2, 1, 3, 3, 3, 3, 3, 1, 1], [2, 1, 2, 1, 2, 2, 1, 3, 3, 1, 3, 1, 3, 3, 1, 2], [2, 1, 3, 2, 2, 1, 2, 2, 3, 1, 2, 3, 3, 1, 3, 3], [2, 2, 2, 3, 1, 3, 1, 3, 2, 2, 2, 1, 3, 1, 3, 1], [2, 3, 1, 1, 3, 2, 3, 1, 1, 3, 2, 2, 3, 1, 3, 2], [1, 3, 1, 1, 3, 2, 2, 3, 2, 3, 2, 2, 3, 1, 1, 3], [1, 1, 3, 2, 2, 1, 1, 1, 1, 1, 2, 3, 3, 1, 1, 1], [1, 2, 2, 3, 1, 3, 3, 2, 3, 2, 2, 1, 3, 1, 1, 2], [3, 2, 2, 3, 1, 3, 2, 1, 1, 2, 2, 1, 3, 1, 2, 3], [3, 3, 1, 1, 3, 2, 1, 2, 3, 3, 2, 2, 3, 1, 2, 1], [3, 1, 3, 2, 2, 1, 3, 3, 2, 1, 2, 3, 3, 1, 2, 2]])\n"
     ]
    }
   ],
   "source": [
    "count = 0\n",
    "\n",
    "for x in enumerate(colorlists):\n",
    "    for y in x[1]:\n",
    "        count += 1\n",
    "    if count > 4:\n",
    "        print(count)\n",
    "        print(x)\n",
    "    count = 0\n"
   ]
  },
  {
   "cell_type": "code",
   "execution_count": 8,
   "metadata": {},
   "outputs": [],
   "source": [
    "df = pd.read_csv(\"./data/knotinfo_data_complete.csv\",index_col=False)#. index_col = \"name\")"
   ]
  },
  {
   "cell_type": "code",
   "execution_count": 3,
   "metadata": {},
   "outputs": [
    {
     "data": {
      "text/plain": [
       "377"
      ]
     },
     "execution_count": 3,
     "metadata": {},
     "output_type": "execute_result"
    }
   ],
   "source": [
    "max(df[\"determinant\"])"
   ]
  },
  {
   "cell_type": "code",
   "execution_count": 9,
   "metadata": {},
   "outputs": [],
   "source": [
    "all_primes = [3,5,7,11,13,17,19,23,29,31,37,41,43,47,53,59,61,67,71,73,79,83,89,97,101,103,107,109,113,127,131,137,139,149,151,157,163,167,173,179,181,191,193,197,199,211,223,227,229,233,239,241,251,257,263,269,271,277,281,283,293,307,311,313,317,331,337,347,349,353,359,367,373]"
   ]
  },
  {
   "cell_type": "code",
   "execution_count": 6,
   "metadata": {},
   "outputs": [],
   "source": [
    "#len(df[df[\"determinant\"]%373==0])"
   ]
  },
  {
   "cell_type": "code",
   "execution_count": 10,
   "metadata": {},
   "outputs": [],
   "source": [
    "primes_used = []\n",
    "for p in all_primes:\n",
    "    p_colorable_knots = df[df[\"determinant\"]%p==0]\n",
    "    if len(p_colorable_knots) != 0:\n",
    "        primes_used.append(p)\n",
    "        p_colorable_braid = p_colorable_knots[[\"name\",\"braid_notation\"]]\n",
    "        p_colorable_braid.to_csv(\"./data/name_braid_\"+str(p)+\"colorable.csv\",index=False)\n",
    "        p_colorable_braid = []\n",
    "    else:\n",
    "        continue\n",
    "    p_colorable_knots=[]"
   ]
  },
  {
   "cell_type": "code",
   "execution_count": 12,
   "metadata": {},
   "outputs": [
    {
     "name": "stdout",
     "output_type": "stream",
     "text": [
      "[3, 5, 7, 11, 13, 17, 19, 23, 29, 31, 37, 41, 43, 47, 53, 59, 61, 67, 71, 73, 79, 83, 89, 97, 101, 103, 107, 109, 113, 127, 131, 137, 139, 149, 151, 157, 163, 167, 173, 179, 181, 191, 193, 197, 199, 211, 223, 227, 229, 233, 239, 241, 251, 257, 263, 269, 271, 277, 281, 283, 293, 307, 313, 353]\n"
     ]
    }
   ],
   "source": [
    "print(primes_used)\n",
    "gauss_primes_used =[3, 5, 7, 11, 13, 17, 19, 23, 29, 31, 37, 41, 43, 47, 53, 59, 61, 67, 71, 73, 79, 83, 89, 97, 101, 103, 107, 109, 113, 127, 131, 137, 139, 149, 151, 157, 163, 167, 173, 179, 181, 191, 193, 197, 199, 211, 223, 227, 229, 233, 239, 241, 251, 257, 263, 269, 271, 277, 281, 283, 293, 307, 313, 353]"
   ]
  },
  {
   "cell_type": "code",
   "execution_count": 14,
   "metadata": {},
   "outputs": [
    {
     "name": "stdout",
     "output_type": "stream",
     "text": [
      "yes\n"
     ]
    }
   ],
   "source": [
    "if primes_used == gauss_primes_used:\n",
    "    print('yes')\n",
    "else:\n",
    "    print('no')"
   ]
  },
  {
   "cell_type": "code",
   "execution_count": 11,
   "metadata": {},
   "outputs": [],
   "source": [
    "three_colorable_knots = df[df[\"determinant\"]%3==0]"
   ]
  },
  {
   "cell_type": "code",
   "execution_count": 12,
   "metadata": {},
   "outputs": [],
   "source": [
    "three_colorable_gauss = three_colorable_knots[[\"name\",\"gauss_notation\"]]"
   ]
  },
  {
   "cell_type": "code",
   "execution_count": 13,
   "metadata": {},
   "outputs": [],
   "source": [
    "three_colorable_gauss.to_csv(\"./data/name_gaussfromgauss_3colorable.csv\",index=False)"
   ]
  },
  {
   "cell_type": "code",
   "execution_count": 18,
   "metadata": {},
   "outputs": [],
   "source": [
    "five_colorable_braid = five_colorable_knots[[\"name\",\"braid_notation\"]]"
   ]
  },
  {
   "cell_type": "code",
   "execution_count": 20,
   "metadata": {},
   "outputs": [],
   "source": [
    "five_colorable_braid.to_csv(\"name_braid_5colorable.csv\",index=False)"
   ]
  },
  {
   "cell_type": "markdown",
   "metadata": {},
   "source": [
    "# to-do \n",
    "- make a function that compares the gauss and braid DLNs\n",
    "    - we are dealing with list of lists with [[this is the first coloring,this is a check of the first coloring],[ this is another coloring,checking another coloring with a different method]] \n",
    "    - first check to see if each individual one\n",
    "    - get the gauss and braid DLN\n",
    "    - switch every element to abs\n",
    "    - if element in gauss code is in \n",
    "\n",
    "- write a function that determines whether a number is prime lol\n",
    "- get a list of prime determinants of all knots\n",
    "- get all fields for all gauss and braids"
   ]
  },
  {
   "cell_type": "code",
   "execution_count": 2,
   "metadata": {},
   "outputs": [],
   "source": [
    "DLN_gauss = pd.read_csv(\"./data/name_DLNfromgauss_3colorable.csv\")[1:]#. index_col = \"name\")\n",
    "DLN_braid = pd.read_csv(\"./data/name_DLNfrombraid_3colorable.csv\")[1:]"
   ]
  },
  {
   "cell_type": "code",
   "execution_count": 25,
   "metadata": {},
   "outputs": [],
   "source": [
    "DLN_gauss_frac = []\n",
    "knot_list = []\n",
    "\n",
    "for knot in DLN_gauss[\"Dihedral Linking Number\"]:#.values.tolist():\n",
    "#     print(knot)\n",
    "    strings = knot[2:-2].split(\"], [\")\n",
    "#     print(strings)\n",
    "    for string in strings:\n",
    "        if string == \"'No Dihedral Linking Number Exists'\":\n",
    "            knot_list.append(\"No Dihedral Linking Number Exists\")\n",
    "        else:\n",
    "            knot_list.append(abs(Fraction(string)))\n",
    "    DLN_gauss_frac.append(knot_list)\n",
    "    knot_list = []\n",
    "\n",
    "# DLN_gauss_frac"
   ]
  },
  {
   "cell_type": "code",
   "execution_count": 26,
   "metadata": {},
   "outputs": [],
   "source": [
    "DLN_braid_frac = []\n",
    "knot_list = []\n",
    "\n",
    "for knot in DLN_braid[\"Dihedral Linking Number\"]:#.values.tolist():\n",
    "#     print(knot)\n",
    "    strings = knot[2:-2].split(\"], [\")\n",
    "#     print(strings)\n",
    "    for string in strings:\n",
    "        if string == \"'No Dihedral Linking Number Exists'\":\n",
    "            knot_list.append(\"No Dihedral Linking Number Exists\")\n",
    "        else:\n",
    "            knot_list.append(abs(Fraction(string)))\n",
    "    DLN_braid_frac.append(knot_list)\n",
    "    knot_list = []\n",
    "\n",
    "#DLN_braid_frac"
   ]
  },
  {
   "cell_type": "code",
   "execution_count": 27,
   "metadata": {},
   "outputs": [],
   "source": [
    "for i in range(len(DLN_braid_frac)): #you need to do if in and remove... :))))\n",
    "    for j in range(len(DLN_braid_frac[i])):\n",
    "        if DLN_braid_frac[i][j] in DLN_gauss_frac[i]:\n",
    "            DLN_braid_frac[i][j] = \"yes\" #DLN_gauss_frac[i].pop()\n",
    "        else:\n",
    "            DLN_braid_frac[i][j] = \"NOOoooooooOOOOoooo\"\n",
    "\n",
    "yes_list = DLN_braid_frac    "
   ]
  },
  {
   "cell_type": "code",
   "execution_count": 31,
   "metadata": {},
   "outputs": [],
   "source": [
    "for y in yes_list:\n",
    "    for z in y:\n",
    "        if z == 'yes':\n",
    "            continue\n",
    "        else:\n",
    "            print(y)"
   ]
  },
  {
   "cell_type": "code",
   "execution_count": null,
   "metadata": {},
   "outputs": [],
   "source": []
  }
 ],
 "metadata": {
  "kernelspec": {
   "display_name": "Python 3",
   "language": "python",
   "name": "python3"
  },
  "language_info": {
   "codemirror_mode": {
    "name": "ipython",
    "version": 3
   },
   "file_extension": ".py",
   "mimetype": "text/x-python",
   "name": "python",
   "nbconvert_exporter": "python",
   "pygments_lexer": "ipython3",
   "version": "3.7.6"
  }
 },
 "nbformat": 4,
 "nbformat_minor": 4
}
